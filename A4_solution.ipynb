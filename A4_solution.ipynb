{
  "nbformat": 4,
  "nbformat_minor": 0,
  "metadata": {
    "accelerator": "GPU",
    "colab": {
      "name": "A4-solution.ipynb",
      "provenance": [],
      "include_colab_link": true
    },
    "kernelspec": {
      "display_name": "Python 3",
      "language": "python",
      "name": "python3"
    },
    "language_info": {
      "codemirror_mode": {
        "name": "ipython",
        "version": 3
      },
      "file_extension": ".py",
      "mimetype": "text/x-python",
      "name": "python",
      "nbconvert_exporter": "python",
      "pygments_lexer": "ipython3",
      "version": "3.7.3"
    }
  },
  "cells": [
    {
      "cell_type": "markdown",
      "metadata": {
        "id": "view-in-github",
        "colab_type": "text"
      },
      "source": [
        "<a href=\"https://colab.research.google.com/github/armandordorica/ECE1513_A5_Adversarial_training/blob/master/A4_solution.ipynb\" target=\"_parent\"><img src=\"https://colab.research.google.com/assets/colab-badge.svg\" alt=\"Open In Colab\"/></a>"
      ]
    },
    {
      "cell_type": "markdown",
      "metadata": {
        "colab_type": "text",
        "id": "pxMUmlEENLXc"
      },
      "source": [
        "Let's first get the imports out of the way."
      ]
    },
    {
      "cell_type": "code",
      "metadata": {
        "colab_type": "code",
        "id": "v0yDWKUrCBiX",
        "colab": {}
      },
      "source": [
        "import array\n",
        "import gzip\n",
        "import itertools\n",
        "import numpy\n",
        "import numpy.random as npr\n",
        "import os\n",
        "import struct\n",
        "import time\n",
        "from os import path\n",
        "import urllib.request\n",
        "\n",
        "import jax.numpy as np\n",
        "from jax.api import jit, grad\n",
        "from jax.config import config\n",
        "from jax.scipy.special import logsumexp\n",
        "from jax import random"
      ],
      "execution_count": 0,
      "outputs": []
    },
    {
      "cell_type": "markdown",
      "metadata": {
        "colab_type": "text",
        "id": "nIp--T57NGrU"
      },
      "source": [
        "The following cell contains boilerplate code to download and load MNIST data."
      ]
    },
    {
      "cell_type": "code",
      "metadata": {
        "colab_type": "code",
        "id": "Du24u5vtDEIn",
        "colab": {}
      },
      "source": [
        "_DATA = \"/tmp/\"\n",
        "\n",
        "def _download(url, filename):\n",
        "  \"\"\"Download a url to a file in the JAX data temp directory.\"\"\"\n",
        "  if not path.exists(_DATA):\n",
        "    os.makedirs(_DATA)\n",
        "  out_file = path.join(_DATA, filename)\n",
        "  if not path.isfile(out_file):\n",
        "    urllib.request.urlretrieve(url, out_file)\n",
        "    print(\"downloaded {} to {}\".format(url, _DATA))\n",
        "\n",
        "\n",
        "def _partial_flatten(x):\n",
        "  \"\"\"Flatten all but the first dimension of an ndarray.\"\"\"\n",
        "  return numpy.reshape(x, (x.shape[0], -1))\n",
        "\n",
        "\n",
        "def _one_hot(x, k, dtype=numpy.float32):\n",
        "  \"\"\"Create a one-hot encoding of x of size k.\"\"\"\n",
        "  return numpy.array(x[:, None] == numpy.arange(k), dtype)\n",
        "\n",
        "\n",
        "def mnist_raw():\n",
        "  \"\"\"Download and parse the raw MNIST dataset.\"\"\"\n",
        "  # CVDF mirror of http://yann.lecun.com/exdb/mnist/\n",
        "  base_url = \"https://storage.googleapis.com/cvdf-datasets/mnist/\"\n",
        "\n",
        "  def parse_labels(filename):\n",
        "    with gzip.open(filename, \"rb\") as fh:\n",
        "      _ = struct.unpack(\">II\", fh.read(8))\n",
        "      return numpy.array(array.array(\"B\", fh.read()), dtype=numpy.uint8)\n",
        "\n",
        "  def parse_images(filename):\n",
        "    with gzip.open(filename, \"rb\") as fh:\n",
        "      _, num_data, rows, cols = struct.unpack(\">IIII\", fh.read(16))\n",
        "      return numpy.array(array.array(\"B\", fh.read()),\n",
        "                      dtype=numpy.uint8).reshape(num_data, rows, cols)\n",
        "\n",
        "  for filename in [\"train-images-idx3-ubyte.gz\", \"train-labels-idx1-ubyte.gz\",\n",
        "                   \"t10k-images-idx3-ubyte.gz\", \"t10k-labels-idx1-ubyte.gz\"]:\n",
        "    _download(base_url + filename, filename)\n",
        "\n",
        "  train_images = parse_images(path.join(_DATA, \"train-images-idx3-ubyte.gz\"))\n",
        "  train_labels = parse_labels(path.join(_DATA, \"train-labels-idx1-ubyte.gz\"))\n",
        "  test_images = parse_images(path.join(_DATA, \"t10k-images-idx3-ubyte.gz\"))\n",
        "  test_labels = parse_labels(path.join(_DATA, \"t10k-labels-idx1-ubyte.gz\"))\n",
        "\n",
        "  return train_images, train_labels, test_images, test_labels\n",
        "\n",
        "\n",
        "def mnist(create_outliers=False):\n",
        "  \"\"\"Download, parse and process MNIST data to unit scale and one-hot labels.\"\"\"\n",
        "  train_images, train_labels, test_images, test_labels = mnist_raw()\n",
        "\n",
        "  train_images = _partial_flatten(train_images) / numpy.float32(255.)\n",
        "  test_images = _partial_flatten(test_images) / numpy.float32(255.)\n",
        "  train_labels = _one_hot(train_labels, 10)\n",
        "  test_labels = _one_hot(test_labels, 10)\n",
        "\n",
        "  if create_outliers:\n",
        "    mum_outliers = 30000\n",
        "    perm = numpy.random.RandomState(0).permutation(mum_outliers)\n",
        "    train_images[:mum_outliers] = train_images[:mum_outliers][perm]\n",
        "\n",
        "  return train_images, train_labels, test_images, test_labels\n",
        "\n",
        "def shape_as_image(images, labels, dummy_dim=False):\n",
        "  target_shape = (-1, 1, 28, 28, 1) if dummy_dim else (-1, 28, 28, 1)\n",
        "  return np.reshape(images, target_shape), labels\n",
        "\n",
        "train_images, train_labels, test_images, test_labels = mnist(create_outliers=False)\n",
        "num_train = train_images.shape[0]"
      ],
      "execution_count": 0,
      "outputs": []
    },
    {
      "cell_type": "markdown",
      "metadata": {
        "colab_type": "text",
        "id": "LdTKppnqIHeV"
      },
      "source": [
        "# **Problem 1**\n",
        "\n",
        "This function computes the output of a fully-connected neural network (i.e., multilayer perceptron) by iterating over all of its layers and:\n",
        "\n",
        "1. taking the `activations` of the previous layer (or the input itself for the first hidden layer) to compute the `outputs` of a linear classifier. Recall the lectures: `outputs` is what we wrote $z=w\\cdot x + b$ where $x$ is the input to the linear classifier. \n",
        "2. applying a non-linear activation. Here we will use $tanh$.\n",
        "\n",
        "Complete the following cell to compute `outputs` and `activations`. "
      ]
    },
    {
      "cell_type": "code",
      "metadata": {
        "id": "blY_DdYdZtu7",
        "colab_type": "code",
        "colab": {
          "base_uri": "https://localhost:8080/",
          "height": 34
        },
        "outputId": "bde44dc0-8a34-4260-ad0b-9b476c9f4adc"
      },
      "source": [
        "train_images.shape"
      ],
      "execution_count": 67,
      "outputs": [
        {
          "output_type": "execute_result",
          "data": {
            "text/plain": [
              "(60000, 784)"
            ]
          },
          "metadata": {
            "tags": []
          },
          "execution_count": 67
        }
      ]
    },
    {
      "cell_type": "code",
      "metadata": {
        "id": "rUv8dmqtY_pe",
        "colab_type": "code",
        "colab": {
          "base_uri": "https://localhost:8080/",
          "height": 34
        },
        "outputId": "eb96d9e0-5120-46a5-fc48-0a5e9e110469"
      },
      "source": [
        "train_images[0].shape"
      ],
      "execution_count": 68,
      "outputs": [
        {
          "output_type": "execute_result",
          "data": {
            "text/plain": [
              "(784,)"
            ]
          },
          "metadata": {
            "tags": []
          },
          "execution_count": 68
        }
      ]
    },
    {
      "cell_type": "code",
      "metadata": {
        "id": "qoSCFntkWhyB",
        "colab_type": "code",
        "colab": {}
      },
      "source": [
        "import matplotlib.pyplot as plt\n",
        "a = np.reshape(train_images[15], [28,28])\n"
      ],
      "execution_count": 0,
      "outputs": []
    },
    {
      "cell_type": "code",
      "metadata": {
        "id": "XMSiZhu5ZJmP",
        "colab_type": "code",
        "colab": {
          "base_uri": "https://localhost:8080/",
          "height": 282
        },
        "outputId": "bec97628-d1c2-44a2-fb82-b0b14783bbc8"
      },
      "source": [
        "plt.imshow(a, cmap='Greys_r')"
      ],
      "execution_count": 69,
      "outputs": [
        {
          "output_type": "execute_result",
          "data": {
            "text/plain": [
              "<matplotlib.image.AxesImage at 0x7f12643e9c50>"
            ]
          },
          "metadata": {
            "tags": []
          },
          "execution_count": 69
        },
        {
          "output_type": "display_data",
          "data": {
            "image/png": "[encoded data removed]",
            "text/plain": [
              "<Figure size 432x288 with 1 Axes>"
            ]
          },
          "metadata": {
            "tags": []
          }
        }
      ]
    },
    {
      "cell_type": "code",
      "metadata": {
        "id": "7uX-juqIbdH1",
        "colab_type": "code",
        "colab": {
          "base_uri": "https://localhost:8080/",
          "height": 34
        },
        "outputId": "2e4377f6-7969-4c1d-9e5f-04c5b975f061"
      },
      "source": [
        "int_train_labels = np.argmax(train_labels, axis=1)\n",
        "int_train_labels.shape"
      ],
      "execution_count": 54,
      "outputs": [
        {
          "output_type": "execute_result",
          "data": {
            "text/plain": [
              "(60000,)"
            ]
          },
          "metadata": {
            "tags": []
          },
          "execution_count": 54
        }
      ]
    },
    {
      "cell_type": "markdown",
      "metadata": {
        "id": "ns0vCDwydOb-",
        "colab_type": "text"
      },
      "source": [
        "**Get all the indexes of the training data that were classified as 7**"
      ]
    },
    {
      "cell_type": "code",
      "metadata": {
        "id": "7L3WkmLscvzL",
        "colab_type": "code",
        "colab": {}
      },
      "source": [
        "int_train_labels_list = list(int_train_labels)\n",
        "indexes_7 = [index for index in range(len(int_train_labels_list)) if int_train_labels_list[index] == 7]"
      ],
      "execution_count": 0,
      "outputs": []
    },
    {
      "cell_type": "markdown",
      "metadata": {
        "id": "_9SnFBzsf3vL",
        "colab_type": "text"
      },
      "source": [
        "**Sample 5 examples from the train data where it is labeled as a 7**"
      ]
    },
    {
      "cell_type": "code",
      "metadata": {
        "id": "MnH5R3U_dnZ4",
        "colab_type": "code",
        "colab": {}
      },
      "source": [
        "from random import sample\n",
        "sample_indexes= sample(indexes_7,5)"
      ],
      "execution_count": 0,
      "outputs": []
    },
    {
      "cell_type": "code",
      "metadata": {
        "id": "RpKHA5QaeMtT",
        "colab_type": "code",
        "colab": {
          "base_uri": "https://localhost:8080/",
          "height": 34
        },
        "outputId": "b3f9be85-b705-4e68-ef79-b09d316b35b7"
      },
      "source": [
        "sample_indexes"
      ],
      "execution_count": 108,
      "outputs": [
        {
          "output_type": "execute_result",
          "data": {
            "text/plain": [
              "[58425, 9878, 3189, 51126, 11137]"
            ]
          },
          "metadata": {
            "tags": []
          },
          "execution_count": 108
        }
      ]
    },
    {
      "cell_type": "code",
      "metadata": {
        "id": "hvPErN4zdatg",
        "colab_type": "code",
        "colab": {
          "base_uri": "https://localhost:8080/",
          "height": 268
        },
        "outputId": "7e02e167-1a1a-4c58-a259-d88ae103923d"
      },
      "source": [
        "plt.figure(figsize=(50, 50))\n",
        "for i in range(0,len(sample_indexes)):\n",
        "  print(sample_indexes[i])\n",
        "  index = sample_indexes[i]\n",
        "  a = np.reshape(train_images[index], [28,28])\n",
        "  plt.subplot(int(len(sample_indexes)/6)+1, 6, i+1)\n",
        "  plt.imshow(a, cmap='Greys_r')"
      ],
      "execution_count": 109,
      "outputs": [
        {
          "output_type": "stream",
          "text": [
            "58425\n",
            "9878\n",
            "3189\n",
            "51126\n",
            "11137\n"
          ],
          "name": "stdout"
        },
        {
          "output_type": "display_data",
          "data": {
            "image/png": "[encoded data removed]",
            "text/plain": [
              "<Figure size 3600x3600 with 5 Axes>"
            ]
          },
          "metadata": {
            "tags": []
          }
        }
      ]
    },
    {
      "cell_type": "code",
      "metadata": {
        "id": "qQIeKINFdarn",
        "colab_type": "code",
        "colab": {}
      },
      "source": [
        "def train_sample_sevens(num_of_samples):\n",
        "  int_train_labels = np.argmax(train_labels, axis=1)\n",
        "  int_train_labels_list = list(int_train_labels)\n",
        "  indexes_7 = [index for index in range(len(int_train_labels_list)) if int_train_labels_list[index] == 7]\n",
        "  sample_indexes= sample(indexes_7,num_of_samples)\n",
        "\n",
        "  plt.figure(figsize=(30, 30))\n",
        "  for i in range(0,len(sample_indexes)):\n",
        "    # print(sample_indexes[i])\n",
        "    index = sample_indexes[i]\n",
        "    a = np.reshape(train_images[index], [28,28])\n",
        "    plt.subplot(int(len(sample_indexes)/10)+1, 10, i+1)\n",
        "    plt.imshow(a, cmap='Greys_r')"
      ],
      "execution_count": 0,
      "outputs": []
    },
    {
      "cell_type": "code",
      "metadata": {
        "id": "aUXGMmDqdapT",
        "colab_type": "code",
        "colab": {
          "base_uri": "https://localhost:8080/",
          "height": 146
        },
        "outputId": "8e7f650d-038b-40f0-a508-a3766ad0a820"
      },
      "source": [
        "train_sample_sevens(7)"
      ],
      "execution_count": 122,
      "outputs": [
        {
          "output_type": "display_data",
          "data": {
            "image/png": "[encoded data removed]",
            "text/plain": [
              "<Figure size 2160x2160 with 7 Axes>"
            ]
          },
          "metadata": {
            "tags": []
          }
        }
      ]
    },
    {
      "cell_type": "code",
      "metadata": {
        "colab_type": "code",
        "id": "PGU4xK-iHjhx",
        "colab": {}
      },
      "source": [
        "def predict(params, inputs):\n",
        "  activations = inputs\n",
        "  for w, b in params[:-1]:\n",
        "    outputs = np.dot(activations, w) + b\n",
        "    activations = np.tanh(outputs)\n",
        "  final_w, final_b = params[-1]\n",
        "  logits = np.dot(activations, final_w) + final_b\n",
        "  return logits - logsumexp(logits, axis=1, keepdims=True)"
      ],
      "execution_count": 0,
      "outputs": []
    },
    {
      "cell_type": "markdown",
      "metadata": {
        "colab_type": "text",
        "id": "UgE_NBb9JNDI"
      },
      "source": [
        "The following cell computes the loss of our model. Here we are using cross-entropy combined with a softmax but the implementation uses the `LogSumExp` trick for numerical stability. This is why our previous function `predict` returns the logits to which we substract the `logsumexp` of logits. We discussed this in class but you can read more about it [here](https://blog.feedly.com/tricks-of-the-trade-logsumexp/).\n",
        "\n",
        "Complete the return line. Recall that the loss is defined as :\n",
        "$$ l(X, Y) = -\\frac{1}{n} \\sum_{i\\in 1..n}  \\sum_{j\\in 1.. K}y_j^{(i)} \\log(f_j(x^{(i)})) = -\\frac{1}{n} \\sum_{i\\in 1..n}  \\sum_{j\\in 1.. K}y_j^{(i)} \\log\\left(\\frac{z_j^{(i)}}{\\sum_{k\\in 1..K}z_k^{(i)}}\\right) $$\n",
        "where $X$ is a matrix containing a batch of $n$ training inputs, and $Y$ a matrix containing a batch of one-hot encoded labels defined over $K$ labels. Here $z_j^{(i)}$ is the logits (i.e., input to the softmax) of the model on the example $i$ of our batch of training examples $X$."
      ]
    },
    {
      "cell_type": "code",
      "metadata": {
        "colab_type": "code",
        "id": "JlgdP72hH9ly",
        "colab": {}
      },
      "source": [
        "def loss(params, batch):\n",
        "  inputs, targets = batch\n",
        "  preds = predict(params, inputs)\n",
        "  return -np.mean((np.sum(targets*preds,axis=1)))"
      ],
      "execution_count": 0,
      "outputs": []
    },
    {
      "cell_type": "markdown",
      "metadata": {
        "colab_type": "text",
        "id": "ILZ-q5PTMohU"
      },
      "source": [
        "The following cell defines the accuracy of our model and how to initialize its parameters. "
      ]
    },
    {
      "cell_type": "code",
      "metadata": {
        "colab_type": "code",
        "id": "UDjCuIGzIAjf",
        "colab": {}
      },
      "source": [
        "def accuracy(params, batch):\n",
        "  inputs, targets = batch\n",
        "  target_class = np.argmax(targets, axis=1)\n",
        "  predicted_class = np.argmax(predict(params, inputs), axis=1)\n",
        "  return np.mean(predicted_class == target_class)\n",
        "\n",
        "def init_random_params(layer_sizes, rng=npr.RandomState(0)):\n",
        "  scale = 0.1\n",
        "  return [(scale * rng.randn(m, n), scale * rng.randn(n))\n",
        "          for m, n, in zip(layer_sizes[:-1], layer_sizes[1:])]"
      ],
      "execution_count": 0,
      "outputs": []
    },
    {
      "cell_type": "markdown",
      "metadata": {
        "colab_type": "text",
        "id": "as46_qd5NWMA"
      },
      "source": [
        "The following line defines our architecture with the number of neurons contained in each fully-connected layer (the first layer has 784 neurons because MNIST images are 28*28=784 pixels and the last layer has 10 neurons because MNIST has 10 classes)"
      ]
    },
    {
      "cell_type": "code",
      "metadata": {
        "colab_type": "code",
        "id": "MZzv-4dHNV4D",
        "colab": {}
      },
      "source": [
        "#Good fit\n",
        "layer_sizes = [784, 1024, 128, 10]\n",
        "\n",
        "# underfits \n",
        "#layer_sizes = [784, 4, 2, 10]\n",
        "\n",
        "# overfits\n",
        "#layer_sizes = [784, 1024, 1024, 1024, 1024, 128, 10]\n"
      ],
      "execution_count": 0,
      "outputs": []
    },
    {
      "cell_type": "markdown",
      "metadata": {
        "colab_type": "text",
        "id": "PKroKJ6TOETY"
      },
      "source": [
        "The following cell creates a Python generator for our dataset. It outputs one batch of $n$ training examples at a time. "
      ]
    },
    {
      "cell_type": "code",
      "metadata": {
        "colab_type": "code",
        "id": "_6lLT1klOMIn",
        "colab": {}
      },
      "source": [
        "batch_size = 128\n",
        "num_complete_batches, leftover = divmod(num_train, batch_size)\n",
        "num_batches = num_complete_batches + bool(leftover)\n",
        "\n",
        "def data_stream():\n",
        "  rng = npr.RandomState(0)\n",
        "  while True:\n",
        "    perm = rng.permutation(num_train)\n",
        "    for i in range(num_batches):\n",
        "      batch_idx = perm[i * batch_size:(i + 1) * batch_size]\n",
        "      yield train_images[batch_idx], train_labels[batch_idx]\n",
        "batches = data_stream()"
      ],
      "execution_count": 0,
      "outputs": []
    },
    {
      "cell_type": "markdown",
      "metadata": {
        "colab_type": "text",
        "id": "Lm-UbcYZOOci"
      },
      "source": [
        "We are now ready to define our optimizer. Here we use mini-batch stochastic gradient descent. Complete `<w UPDATE RULE>` and `<b UPDATE RULE>` using the update rule we saw in class. Recall that `dw` is the partial derivative of the `loss` with respect to `w` and `learning_rate` is the learning rate of gradient descent. "
      ]
    },
    {
      "cell_type": "code",
      "metadata": {
        "colab_type": "code",
        "id": "Z8EktCm-OvFh",
        "colab": {}
      },
      "source": [
        "learning_rate = 0.1\n",
        "# oscillates but converges for e.g. 0.5 and doesn't converge for 1.5\n",
        "\n",
        "@jit\n",
        "def update(params, batch):\n",
        "  grads = grad(loss)(params, batch)\n",
        "  return [(w - learning_rate * dw, b - learning_rate* db)\n",
        "          for (w, b), (dw, db) in zip(params, grads)]"
      ],
      "execution_count": 0,
      "outputs": []
    },
    {
      "cell_type": "markdown",
      "metadata": {
        "colab_type": "text",
        "id": "Tqo4M7uNOvzo"
      },
      "source": [
        "This is now the proper training loop for our fully-connected neural network. "
      ]
    },
    {
      "cell_type": "code",
      "metadata": {
        "colab_type": "code",
        "id": "fgrHTrafDHAE",
        "outputId": "c99d37d5-5d00-4c25-a844-768d852bbb91",
        "colab": {
          "base_uri": "https://localhost:8080/",
          "height": 537
        }
      },
      "source": [
        "num_epochs = 10\n",
        "params = init_random_params(layer_sizes)\n",
        "for epoch in range(num_epochs):\n",
        "  start_time = time.time()\n",
        "  for _ in range(num_batches):\n",
        "    params = update(params, next(batches))\n",
        "  epoch_time = time.time() - start_time\n",
        "\n",
        "  train_acc = accuracy(params, (train_images, train_labels))\n",
        "  test_acc = accuracy(params, (test_images, test_labels))\n",
        "  print(\"Epoch {} in {:0.2f} sec\".format(epoch, epoch_time))\n",
        "  print(\"Training set accuracy {}\".format(train_acc))\n",
        "  print(\"Test set accuracy {}\".format(test_acc))"
      ],
      "execution_count": 9,
      "outputs": [
        {
          "output_type": "stream",
          "text": [
            "Epoch 0 in 3.82 sec\n",
            "Training set accuracy 0.9401500225067139\n",
            "Test set accuracy 0.9377000331878662\n",
            "Epoch 1 in 0.47 sec\n",
            "Training set accuracy 0.9592833518981934\n",
            "Test set accuracy 0.95250004529953\n",
            "Epoch 2 in 0.45 sec\n",
            "Training set accuracy 0.9681666493415833\n",
            "Test set accuracy 0.9607000350952148\n",
            "Epoch 3 in 0.46 sec\n",
            "Training set accuracy 0.9759166836738586\n",
            "Test set accuracy 0.9663000702857971\n",
            "Epoch 4 in 0.45 sec\n",
            "Training set accuracy 0.9795500040054321\n",
            "Test set accuracy 0.9676000475883484\n",
            "Epoch 5 in 0.44 sec\n",
            "Training set accuracy 0.982616662979126\n",
            "Test set accuracy 0.970300018787384\n",
            "Epoch 6 in 0.44 sec\n",
            "Training set accuracy 0.9865833520889282\n",
            "Test set accuracy 0.9716000556945801\n",
            "Epoch 7 in 0.46 sec\n",
            "Training set accuracy 0.9892333149909973\n",
            "Test set accuracy 0.9736000299453735\n",
            "Epoch 8 in 0.44 sec\n",
            "Training set accuracy 0.9911666512489319\n",
            "Test set accuracy 0.9741000533103943\n",
            "Epoch 9 in 0.45 sec\n",
            "Training set accuracy 0.992983341217041\n",
            "Test set accuracy 0.9746000170707703\n"
          ],
          "name": "stdout"
        }
      ]
    },
    {
      "cell_type": "markdown",
      "metadata": {
        "colab_type": "text",
        "id": "s9yFvjncWk8G"
      },
      "source": [
        "# **Problem 2**\n",
        "\n",
        "Before we get started, we need to import two small libraries that contain boilerplate code for common neural network layer types and for optimizers like mini-batch SGD."
      ]
    },
    {
      "cell_type": "code",
      "metadata": {
        "colab_type": "code",
        "id": "tvLxNfXtXCRb",
        "colab": {}
      },
      "source": [
        "from jax.experimental import optimizers\n",
        "from jax.experimental import stax"
      ],
      "execution_count": 0,
      "outputs": []
    },
    {
      "cell_type": "markdown",
      "metadata": {
        "colab_type": "text",
        "id": "nNwMlXqfXI8G"
      },
      "source": [
        "Here is a fully-connected neural network architecture, like the one of Problem 1, but this time defined with `stax`"
      ]
    },
    {
      "cell_type": "code",
      "metadata": {
        "colab_type": "code",
        "id": "Y4wu1XqFds4X",
        "colab": {}
      },
      "source": [
        "init_random_params, predict = stax.serial(\n",
        "    stax.Conv(128, (8,8), padding='valid', strides=(2,2)),\n",
        "    stax.MaxPool((2,2),(1,1)),\n",
        "    stax.Conv(128, (4,4), padding='valid', strides=(2,2)),\n",
        "    stax.Relu,\n",
        "    stax.MaxPool((2,2),(1,1)),\n",
        "    stax.Flatten,\n",
        "    stax.Dense(32),\n",
        "    stax.Relu,\n",
        "    stax.Dense(10)\n",
        ")"
      ],
      "execution_count": 0,
      "outputs": []
    },
    {
      "cell_type": "markdown",
      "metadata": {
        "colab_type": "text",
        "id": "nEW_OcOCdwFX"
      },
      "source": [
        "We redefine the cross-entropy loss for this model. As done in Problem 1, complete the return line below (it's identical). "
      ]
    },
    {
      "cell_type": "code",
      "metadata": {
        "colab_type": "code",
        "id": "zQEeOtAEdvYn",
        "colab": {}
      },
      "source": [
        "def loss(params, batch):\n",
        "  inputs, targets = batch\n",
        "  logits = predict(params, inputs)\n",
        "  preds  = stax.logsoftmax(logits)\n",
        "  return -(1/preds.shape[0])*np.sum(targets * preds)"
      ],
      "execution_count": 0,
      "outputs": []
    },
    {
      "cell_type": "markdown",
      "metadata": {
        "colab_type": "text",
        "id": "8ZBxTvCweJbN"
      },
      "source": [
        "Next, we define the mini-batch SGD optimizer, this time with the optimizers library in JAX. "
      ]
    },
    {
      "cell_type": "code",
      "metadata": {
        "colab_type": "code",
        "id": "peG-cAZ0eGTG",
        "colab": {}
      },
      "source": [
        "learning_rate = 0.15\n",
        "opt_init, opt_update, get_params = optimizers.sgd(learning_rate)\n",
        "\n",
        "@jit\n",
        "def update(_, i, opt_state, batch):\n",
        "  params = get_params(opt_state)\n",
        "  return opt_update(i, grad(loss)(params, batch), opt_state)"
      ],
      "execution_count": 0,
      "outputs": []
    },
    {
      "cell_type": "markdown",
      "metadata": {
        "colab_type": "text",
        "id": "gVx2h8lqeoTD"
      },
      "source": [
        "The next cell contains our training loop, very similar to Problem 1. "
      ]
    },
    {
      "cell_type": "code",
      "metadata": {
        "colab_type": "code",
        "id": "41Y6wwFzb-mk",
        "outputId": "ee545c3d-d6d3-41e3-e2c7-ca742622073d",
        "colab": {
          "base_uri": "https://localhost:8080/",
          "height": 225
        }
      },
      "source": [
        "num_epochs = 12\n",
        "\n",
        "key = random.PRNGKey(123)\n",
        "_, init_params = init_random_params(key, (-1, 28, 28, 1))\n",
        "opt_state = opt_init(init_params)\n",
        "itercount = itertools.count()\n",
        "for epoch in range(1, num_epochs + 1):\n",
        "  for _ in range(num_batches):\n",
        "    opt_state = update(key, next(itercount), opt_state, shape_as_image(*next(batches)))\n",
        "\n",
        "  params = get_params(opt_state)\n",
        "  test_acc = accuracy(params, shape_as_image(test_images, test_labels))\n",
        "  test_loss = loss(params, shape_as_image(test_images, test_labels))\n",
        "  print('Test set loss, accuracy (%): ({:.2f}, {:.2f})'.format(test_loss, 100 * test_acc))\n",
        "\n",
        "  "
      ],
      "execution_count": 14,
      "outputs": [
        {
          "output_type": "stream",
          "text": [
            "Test set loss, accuracy (%): (0.07, 97.78)\n",
            "Test set loss, accuracy (%): (0.04, 98.59)\n",
            "Test set loss, accuracy (%): (0.04, 98.75)\n",
            "Test set loss, accuracy (%): (0.03, 99.10)\n",
            "Test set loss, accuracy (%): (0.04, 98.78)\n",
            "Test set loss, accuracy (%): (0.03, 99.14)\n",
            "Test set loss, accuracy (%): (0.03, 99.10)\n",
            "Test set loss, accuracy (%): (0.03, 99.12)\n",
            "Test set loss, accuracy (%): (0.03, 99.12)\n",
            "Test set loss, accuracy (%): (0.02, 99.17)\n",
            "Test set loss, accuracy (%): (0.03, 99.09)\n",
            "Test set loss, accuracy (%): (0.04, 98.74)\n"
          ],
          "name": "stdout"
        }
      ]
    },
    {
      "cell_type": "code",
      "metadata": {
        "id": "EBOGFto7OvMe",
        "colab_type": "code",
        "colab": {}
      },
      "source": [
        ""
      ],
      "execution_count": 0,
      "outputs": []
    }
  ]
}